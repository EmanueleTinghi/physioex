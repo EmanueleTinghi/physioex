{
 "cells": [
  {
   "cell_type": "code",
   "execution_count": null,
   "metadata": {},
   "outputs": [],
   "source": [
    "import torch\n",
    "import torch.nn.functional as F\n",
    "\n",
    "# Example signal, use your actual signal here\n",
    "x = torch.tensor([[-0.5414,  0.1313,  0.1726,  0.1465,  0.1295,  0.0562,  0.0679,  0.1480,\n",
    "         0.1408,  0.1036,  0.1538,  0.2541,  0.3546,  0.3808,  0.3487,  0.3513,\n",
    "         0.3651,  0.2935,  0.2285,  0.2205,  0.1898,  0.2323,  0.1738,  0.0534,\n",
    "         0.1308,  0.1913,  0.2050,  0.2081,  0.1776,  0.1818,  0.0410, -0.1567,\n",
    "        -0.3132, -0.4532, -0.3681, -0.2606, -0.3623, -0.4558, -0.4615, -0.4234,\n",
    "        -0.3493, -0.3153, -0.2787, -0.1456, -0.0436,  0.0054,  0.0263,  0.0383,\n",
    "         0.1893,  0.1918]])\n",
    "\n",
    "# Use just the first 10 values\n",
    "signal = x[0]  # The 1D signal you're working with\n",
    "\n",
    "# Normalize the signal (optional, depending on your data)\n",
    "min_val = signal.min()\n",
    "max_val = signal.max()\n",
    "normalized_signal = (signal - min_val) / (max_val - min_val)\n",
    "\n",
    "# Calculate the histogram (probability distribution)\n",
    "hist = torch.histc(normalized_signal, bins=256, min=0.0, max=1.0)\n",
    "prob_dist = hist / hist.sum()  # Normalize to get probabilities\n",
    "\n",
    "# Shannon entropy\n",
    "entropy = -torch.sum(prob_dist * torch.log(prob_dist + 1e-6))  # Adding a small epsilon to avoid log(0)\n",
    "\n",
    "print(f\"Shannon Entropy: {entropy.item()}\")\n"
   ]
  },
  {
   "cell_type": "code",
   "execution_count": 16,
   "metadata": {},
   "outputs": [],
   "source": [
    "import numpy as np\n",
    "import torch\n",
    "import torch.nn as nn\n",
    "from scipy.signal import spectrogram"
   ]
  },
  {
   "cell_type": "code",
   "execution_count": null,
   "metadata": {},
   "outputs": [],
   "source": [
    "x = torch.randn(32, 1, 600)\n",
    "\n",
    "\n",
    "_, _, Sxx = spectrogram(\n",
    "    x.detach().cpu().numpy().astype(np.double),\n",
    "    fs=100,\n",
    "    window=\"hamming\",\n",
    "    nperseg=200,\n",
    "    noverlap=100,\n",
    "    nfft=256,\n",
    ")\n",
    "\n",
    "Sxx = Sxx[:,:, :128]\n",
    "# log_10 scale the spectrogram safely (using epsilon)\n",
    "Sxx = 20 * np.log10(np.abs(Sxx) + np.finfo(float).eps)\n",
    "Sxx = torch.tensor(Sxx, dtype=torch.float32, device=x.device)\n",
    "Sxx = Sxx.permute(0,1,3,2)\n",
    "print(Sxx.shape)\n",
    "\n",
    "\n"
   ]
  },
  {
   "cell_type": "code",
   "execution_count": 12,
   "metadata": {},
   "outputs": [],
   "source": [
    "residual_layer = nn.Sequential(\n",
    "    nn.Conv2d( 1, 8, 5, 1, 2),\n",
    "    nn.ReLU(),\n",
    "    nn.BatchNorm2d(8),\n",
    "    nn.Conv2d( 8, 16, 5, 1, 2),\n",
    "    nn.ReLU(),\n",
    "    nn.BatchNorm2d(16),\n",
    "    nn.Conv2d( 16, 1, 5, 1, 2),\n",
    "    nn.ReLU(),\n",
    ")"
   ]
  },
  {
   "cell_type": "code",
   "execution_count": null,
   "metadata": {},
   "outputs": [],
   "source": [
    "residual_layer(Sxx).shape"
   ]
  },
  {
   "cell_type": "markdown",
   "metadata": {},
   "source": [
    "---"
   ]
  },
  {
   "cell_type": "code",
   "execution_count": 5,
   "metadata": {},
   "outputs": [],
   "source": [
    "from collections import OrderedDict\n",
    "import torch\n",
    "import torch.nn as nn"
   ]
  },
  {
   "cell_type": "code",
   "execution_count": null,
   "metadata": {},
   "outputs": [],
   "source": [
    "hidden_size = 500\n",
    "test = torch.randn(10, 1,  hidden_size)\n",
    "print(test.shape)\n",
    "num_segments = 3000 // hidden_size\n",
    "print(num_segments)"
   ]
  },
  {
   "cell_type": "code",
   "execution_count": 29,
   "metadata": {},
   "outputs": [],
   "source": [
    "conv1 = nn.Sequential( OrderedDict([\n",
    "    (\"conv1\", nn.Conv1d(1, 32, 4)),\n",
    "    (\"relu1\", nn.ReLU()),\n",
    "    (\"maxpool1\", nn.MaxPool1d(4)),\n",
    "    (\"batchnorm1\", nn.BatchNorm1d(32)),\n",
    "    (\"conv2\", nn.Conv1d(32, 64, 4)),\n",
    "    (\"relu2\", nn.ReLU()),\n",
    "    (\"maxpool2\", nn.MaxPool1d(hidden_size // 100)),\n",
    "    (\"batchnorm2\", nn.BatchNorm1d(64)),\n",
    "    (\"conv3\", nn.Conv1d(64, 128, 4)),\n",
    "    (\"relu3\", nn.ReLU()),\n",
    "    (\"maxpool3\", nn.MaxPool1d(4)),\n",
    "    (\"batchnorm3\", nn.BatchNorm1d(128)),\n",
    "    (\"conv4\", nn.Conv1d(128, 256, 5)),\n",
    "    (\"flatten\", nn.Flatten()),\n",
    "]))"
   ]
  },
  {
   "cell_type": "code",
   "execution_count": null,
   "metadata": {},
   "outputs": [],
   "source": [
    "for hidden_size in [200, 300, 500, 600]:  \n",
    "    print(f\"hidden_size: {hidden_size}\")\n",
    "    conv1 = nn.Sequential( OrderedDict([\n",
    "        (\"conv1\", nn.Conv1d(1, 32, 4)),\n",
    "        (\"relu1\", nn.ReLU()),\n",
    "        (\"maxpool1\", nn.MaxPool1d(4)),\n",
    "        (\"batchnorm1\", nn.BatchNorm1d(32)),\n",
    "        (\"conv2\", nn.Conv1d(32, 64, 4)),\n",
    "        (\"relu2\", nn.ReLU()),\n",
    "        (\"maxpool2\", nn.MaxPool1d(hidden_size // 100)),\n",
    "        (\"batchnorm2\", nn.BatchNorm1d(64)),\n",
    "        (\"conv3\", nn.Conv1d(64, 128, 4)),\n",
    "        (\"relu3\", nn.ReLU()),\n",
    "        (\"maxpool3\", nn.MaxPool1d(4)),\n",
    "        (\"batchnorm3\", nn.BatchNorm1d(128)),\n",
    "        (\"conv4\", nn.Conv1d(128, 256, 5)),\n",
    "        (\"flatten\", nn.Flatten()),\n",
    "    ]))\n",
    "    out_size = conv1(torch.randn(1, 1,  hidden_size)).shape\n",
    "    print(out_size)"
   ]
  },
  {
   "cell_type": "code",
   "execution_count": null,
   "metadata": {},
   "outputs": [],
   "source": [
    "x= test\n",
    "print(\"Input shape:\", x.shape)\n",
    "for i, layer in enumerate(conv1):\n",
    "    x = layer(x)\n",
    "    print(f\"Output shape dopo il layer {i} ({layer.__class__.__name__}): {x.shape}\")"
   ]
  },
  {
   "cell_type": "markdown",
   "metadata": {},
   "source": [
    "---"
   ]
  },
  {
   "cell_type": "code",
   "execution_count": 6,
   "metadata": {},
   "outputs": [],
   "source": [
    "from typing import List, Callable\n",
    "from physioex.data import PhysioExDataset\n",
    "from physioex.data.datamodule import PhysioExDataModule\n",
    "from physioex.train.networks import config as network_config\n",
    "from physioex.train.bin.parser import deep_update\n",
    "import importlib\n",
    "import numpy as np\n",
    "\n",
    "from physioex.train.utils.train import train"
   ]
  },
  {
   "cell_type": "code",
   "execution_count": 7,
   "metadata": {},
   "outputs": [],
   "source": [
    "class EmanueleDataset( PhysioExDataset ):\n",
    "    def __init__(\n",
    "        self,\n",
    "        datasets: List[str],\n",
    "        data_folder: str,\n",
    "        preprocessing: str = \"raw\",\n",
    "        selected_channels: List[int] = [\"EEG\"],\n",
    "        sequence_length: int = 21,\n",
    "        target_transform: Callable = None,\n",
    "        hpc: bool = False,\n",
    "        indexed_channels: List[int] = [\"EEG\", \"EOG\", \"EMG\", \"ECG\"],\n",
    "        task: str = \"sleep\",\n",
    "    ):\n",
    "        super().__init__(\n",
    "            datasets = datasets,\n",
    "            data_folder = data_folder,\n",
    "            preprocessing = preprocessing,\n",
    "            selected_channels = selected_channels,\n",
    "            sequence_length = sequence_length,\n",
    "            target_transform = target_transform,\n",
    "            hpc = hpc,\n",
    "            indexed_channels = indexed_channels,\n",
    "            task = task,\n",
    "        )\n",
    "\n",
    "        self.emanuele_data = PhysioExDataset(\n",
    "            datasets = datasets,\n",
    "            data_folder = data_folder,\n",
    "            preprocessing = \"emanuele\",\n",
    "            selected_channels = selected_channels,\n",
    "            sequence_length = sequence_length,\n",
    "            target_transform = target_transform,\n",
    "            hpc = hpc,\n",
    "            indexed_channels = indexed_channels,\n",
    "            task = task,\n",
    "        )\n",
    "        return\n",
    "\n",
    "    def __getitem__(self, idx):\n",
    "        X, _ = super().__getitem__(idx)\n",
    "        #print(\"X shape:\", X.shape)\n",
    "        #print(\"self.L:\", self.L)\n",
    "        X = X.reshape( self.L, len(self.channels_index), 5, 600)\n",
    "        y, _ = self.emanuele_data.__getitem__(idx)      \n",
    "        #print(\"X shape:\", X.shape)\n",
    "        #print(\"y shape:\", y.shape)  \n",
    "        \n",
    "        X = X.permute(0, 2, 1, 3)\n",
    "        y = y.permute(0, 2, 1, 3, 4)\n",
    "        \n",
    "        X = X.reshape( self.L*5, len(self.channels_index), 600)\n",
    "        y = y.reshape( self.L*5, len(self.channels_index), 5, 129)\n",
    "        \n",
    "        return X, y"
   ]
  },
  {
   "cell_type": "code",
   "execution_count": 8,
   "metadata": {},
   "outputs": [
    {
     "name": "stdout",
     "output_type": "stream",
     "text": [
      "torch.Size([21, 3, 5, 5, 129]) torch.Size([21])\n",
      "torch.Size([105, 3, 5, 129]) torch.Size([21])\n"
     ]
    }
   ],
   "source": [
    "emanuele_data = EmanueleDataset(\n",
    "    datasets = [\"mass\"],\n",
    "    data_folder = \"/mnt/guido-data/\",\n",
    "    preprocessing = \"raw\",\n",
    "    selected_channels = [\"EEG\", \"EOG\", \"EMG\"],\n",
    "    sequence_length = 21,\n",
    "    indexed_channels = [\"EEG\", \"EOG\", \"EMG\"],\n",
    ")\n",
    "signal, labels = emanuele_data.emanuele_data[0]\n",
    "print(signal.shape, labels.shape)\n",
    "signal = np.transpose(signal, (0, 2, 1, 3, 4)).reshape( -1, 3, 5, 129)\n",
    "print(signal.shape, labels.shape)"
   ]
  },
  {
   "cell_type": "code",
   "execution_count": 9,
   "metadata": {},
   "outputs": [
    {
     "name": "stdout",
     "output_type": "stream",
     "text": [
      "<physioex.data.dataset.PhysioExDataset object at 0x7fd4d9f0ffd0>\n",
      "<__main__.EmanueleDataset object at 0x7fd4d9f0f970>\n",
      "torch.Size([21, 3, 5, 5, 129]) torch.Size([21])\n"
     ]
    }
   ],
   "source": [
    "datamodule = PhysioExDataModule(\n",
    "    datasets = emanuele_data,\n",
    "    batch_size = 32,\n",
    ")\n",
    "print( datamodule.dataset.emanuele_data )\n",
    "print( datamodule.dataset)\n",
    "signal, label = datamodule.dataset.emanuele_data[0]\n",
    "print(signal.shape, label.shape)\n"
   ]
  },
  {
   "cell_type": "code",
   "execution_count": 10,
   "metadata": {},
   "outputs": [],
   "source": [
    "default_config = network_config[\"default\"].copy()\n",
    "config = network_config[\"protosleepnet_reconstructor_mass\"]\n",
    "\n",
    "deep_update(default_config, config)\n",
    "config = default_config\n",
    "\n",
    "config[\"model_kwargs\"][\"in_channels\"] = 3\n",
    "config[\"model_kwargs\"][\"sequence_length\"] = 21\n",
    "\n",
    "module, class_name = config[\"model\"].split(\":\")\n",
    "config[\"model\"] = getattr(importlib.import_module(module), class_name)"
   ]
  },
  {
   "cell_type": "code",
   "execution_count": 11,
   "metadata": {},
   "outputs": [
    {
     "name": "stdout",
     "output_type": "stream",
     "text": [
      "<__main__.EmanueleDataset object at 0x7fd4d9f0f970>\n"
     ]
    }
   ],
   "source": [
    "print(datamodule.dataset)"
   ]
  },
  {
   "cell_type": "code",
   "execution_count": null,
   "metadata": {},
   "outputs": [],
   "source": [
    "train(\n",
    "    datasets = datamodule,\n",
    "    model_class = config[\"model\"],\n",
    "    model_config = config[\"model_kwargs\"],\n",
    "    model = None,\n",
    "    monitor = \"val_loss\",\n",
    ")"
   ]
  },
  {
   "cell_type": "code",
   "execution_count": 12,
   "metadata": {},
   "outputs": [],
   "source": [
    "from scipy.signal import welch\n",
    "import seaborn as sns\n",
    "import torch"
   ]
  },
  {
   "cell_type": "code",
   "execution_count": 17,
   "metadata": {},
   "outputs": [],
   "source": [
    "def welch_psd(x, fs=1.0, nperseg=256, noverlap=None, nfft=None):\n",
    "    if noverlap is None:\n",
    "        noverlap = nperseg // 2\n",
    "    if nfft is None:\n",
    "        nfft = nperseg\n",
    "\n",
    "    batch_size, signal_len = x.size()   #x shape: [-1, 600]\n",
    "\n",
    "    # Window function\n",
    "    window = torch.hann_window(nperseg, periodic=False).to(x.device)\n",
    "\n",
    "    # Calculate the number of segments\n",
    "    step = nperseg - noverlap\n",
    "    shape = (batch_size, (x.size(1) - noverlap) // step, nperseg)   #shape shape: [-1, 11, 100]\n",
    "    strides = (x.stride(0), x.stride(1) * step, x.stride(1))    #strides shape: [600, 50, 1]\n",
    "    segments = torch.as_strided(x, size=shape, stride=strides)  #segments shape: [-1, 11, 100]\n",
    "\n",
    "    # Apply window to each segment\n",
    "    segments = segments * window\n",
    "\n",
    "    # Compute FFT and power spectral density\n",
    "    fft_segments = torch.fft.fft(segments, n=nfft)\n",
    "    #print(\"fft_all: \", fft_segments.shape) \n",
    "    fft_segments = fft_segments[..., : nfft // 2 + 1]\n",
    "    #print(\"fft_pos: \", fft_segments.shape) \n",
    "    psdx = (1 / (fs * nfft)) * torch.abs(fft_segments)**2\n",
    "    psdx[..., 1:-1] = 2 * psdx[..., 1:-1]\n",
    "    #print(psdx.shape) #[3,11]\n",
    "\n",
    "    #psd = (fft_segments.abs() ** 2) / (fs * nperseg)\n",
    "\n",
    "    # Average over segments\n",
    "    psd = psdx.mean(dim=1)   #psd shape: [-1, 129]\n",
    "\n",
    "    # Frequency axis\n",
    "    freqs = torch.fft.rfftfreq(nfft, 1 / fs)\n",
    "\n",
    "    return freqs, psd"
   ]
  },
  {
   "cell_type": "code",
   "execution_count": 16,
   "metadata": {},
   "outputs": [],
   "source": [
    "import torch\n",
    "\n",
    "def welch_psd(x, fs=1.0, nperseg=256, noverlap=None, nfft=None):\n",
    "    if noverlap is None:\n",
    "        noverlap = nperseg // 2\n",
    "    if nfft is None:\n",
    "        nfft = nperseg\n",
    "\n",
    "    batch_size, signal_len = x.size()\n",
    "\n",
    "    # Window function\n",
    "    window = torch.hann_window(nperseg, periodic=False).to(x.device)\n",
    "    # Calculate the number of segments\n",
    "    step = nperseg - noverlap\n",
    "    shape = (batch_size, (x.size(1) - noverlap) // step, nperseg)   #shape shape: [-1, 11, 100]\n",
    "    strides = (x.stride(0), x.stride(1) * step, x.stride(1))    #strides shape: [600, 50, 1]\n",
    "    segments = torch.as_strided(x, size=shape, stride=strides)  #segments shape: [-1, 11, 100]\n",
    "\n",
    "    # Apply window to each segment\n",
    "    segments = segments * window\n",
    "\n",
    "    # Compute FFT and power spectral density\n",
    "    fft_segments = torch.fft.rfft(segments, n=nfft)\n",
    "    psdx = (1 / (fs * nfft)) * torch.abs(fft_segments)**2\n",
    "    psdx[..., 1:-1] *= 2  # Double the power except for the DC and Nyquist components\n",
    "\n",
    "    # Average over segments\n",
    "    psd = psdx.mean(dim=1)\n",
    "\n",
    "    # Frequency axis\n",
    "    freqs = torch.fft.rfftfreq(nfft, 1 / fs).to(x.device)\n",
    "\n",
    "    return freqs, psd"
   ]
  },
  {
   "cell_type": "code",
   "execution_count": 14,
   "metadata": {},
   "outputs": [
    {
     "data": {
      "text/plain": [
       "torch.Size([105, 3, 600])"
      ]
     },
     "execution_count": 14,
     "metadata": {},
     "output_type": "execute_result"
    }
   ],
   "source": [
    "emanuele_data = EmanueleDataset(\n",
    "    datasets = [\"mass\"],\n",
    "    data_folder = \"/mnt/guido-data/\",\n",
    "    preprocessing = \"raw\",\n",
    "    selected_channels = [\"EEG\", \"EOG\", \"EMG\"],\n",
    "    sequence_length = 21,\n",
    "    indexed_channels = [\"EEG\", \"EOG\", \"EMG\"],\n",
    ")\n",
    "signal, labels = emanuele_data[0]\n",
    "signal.shape"
   ]
  },
  {
   "cell_type": "code",
   "execution_count": null,
   "metadata": {},
   "outputs": [],
   "source": []
  },
  {
   "cell_type": "code",
   "execution_count": 21,
   "metadata": {},
   "outputs": [
    {
     "name": "stdout",
     "output_type": "stream",
     "text": [
      "torch.Size([3, 129]) torch.Size([129])\n"
     ]
    },
    {
     "data": {
      "text/plain": [
       "<Axes: >"
      ]
     },
     "execution_count": 21,
     "metadata": {},
     "output_type": "execute_result"
    },
    {
     "data": {
      "image/png": "[encoded data removed]",
      "text/plain": [
       "<Figure size 640x480 with 1 Axes>"
      ]
     },
     "metadata": {},
     "output_type": "display_data"
    }
   ],
   "source": [
    "freq_x, welch_x = welch_psd(signal[0], fs=100, nperseg=100, noverlap=50, nfft=256)\n",
    "scipy_freq, scipy_welch = welch(signal[0].numpy(), fs=100, nperseg=100, noverlap=50, nfft=256)\n",
    "freq_rfft, welch_rfft = welch_psd_rfft(signal[0], fs=100, nperseg=100, noverlap=50, nfft=256)\n",
    "\n",
    "print(welch_x.shape, freq_x.shape)\n",
    "sns.lineplot(x=freq_x[1:].numpy(), y=welch_x[0, 1:].numpy(), label=\"self\")\n",
    "#sns.lineplot(x=scipy_freq[1:], y=scipy_welch[0, 1:], label=\"scipy\")\n",
    "sns.lineplot(x=freq_rfft[1:].numpy(), y=welch_rfft[0, 1:].numpy(), label=\"rfft\")"
   ]
  },
  {
   "cell_type": "code",
   "execution_count": null,
   "metadata": {},
   "outputs": [],
   "source": []
  }
 ],
 "metadata": {
  "kernelspec": {
   "display_name": "tesi",
   "language": "python",
   "name": "python3"
  },
  "language_info": {
   "codemirror_mode": {
    "name": "ipython",
    "version": 3
   },
   "file_extension": ".py",
   "mimetype": "text/x-python",
   "name": "python",
   "nbconvert_exporter": "python",
   "pygments_lexer": "ipython3",
   "version": "3.10.14"
  }
 },
 "nbformat": 4,
 "nbformat_minor": 2
}
