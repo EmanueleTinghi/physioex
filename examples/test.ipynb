{
 "cells": [
  {
   "cell_type": "code",
   "execution_count": 7,
   "metadata": {},
   "outputs": [
    {
     "name": "stdout",
     "output_type": "stream",
     "text": [
      "[0 0 0 0 0 0 1 1 1 2 2 2 3 2 3 3 3 3 3 3 2 3 3 2 3 3 3 3 3 3 3 3 3 3 3 3 3\n",
      " 3 3 3 3 3 3 3 3 3 3 3 3 3 3 3 3 3 3 3 3 3 3 3 3 3 3 3 3 3 3 3 3 3 3 3 3 3\n",
      " 3 3 3 3 3 3 3 3 3 3 3 3 3 3 3 3 3 3 3 3 3 3 3 3 3 3 3 2 2 2 2 2 2 2 2 2 2\n",
      " 2 2 2 0 0 1 1 1 1 2 1 1 0 2 2 2 2 2 2 2 2 2 2 2 2 2 3 3 3 3 3 3 2 2 3 2 3\n",
      " 3 3 3 3 2 0 0 1 1 2 2 2 0 1 2 2 2 2 2 2 2 2 2 2 1 1 2 0 0 0 0 0 0 0 0 0 0\n",
      " 0 0 1 1 1 1 2 2 2 2 2 2 2 2 2 2 2 2 2 2 2 2 2 2 2 2 2 2 2 2 2 2 2 2 2 2 2\n",
      " 2 2 2 4 4 4 4 4 4 4 4 4 4 4 4 4 4 4 4 4 4 4 4 4 4 4 4 4 4 4 4 4 4 4 4 4 0\n",
      " 0 2 2 2 2 2 2 2 2 1 2 2 2 2 2 2 2 2 2 2 2 2 2 2 2 2 2 2 2 2 2 2 3 3 3 3 3\n",
      " 3 3 3 3 3 3 3 2 2 3 3 3 3 3 3 3 3 3 3 3 3 3 3 3 3 3 3 3 2 2 2 2 2 2 2 2 2\n",
      " 2 2 2 2 2 3 3 3 3 2 2 2 2 2 2 2 2 2 2 2 3 2 2 3 3 3 3 3 3 3 3 3 3 3 3 3 3\n",
      " 3 3 3 3 3 2 2 2 1 1 2 2 2 2 2 2 2 2 4 4 4 4 4 4 4 4 4 4 4 4 4 4 4 4 4 4 4\n",
      " 4 4 4 4 4 4 4 4 4 4 4 4 4 4 4 4 4 4 4 4 4 4 4 4 4 4 4 4 4 4 4 4 4 0 0 1 1\n",
      " 1 1 2 0 1 1 2 2 2 2 2 2 2 2 2 0 0 1 2 0 1 1 2 2 2 2 2 2 2 2 2 2 2 2 2 1 0\n",
      " 1 1 1 2 2 2 2 2 2 2 2 2 2 2 2 2 2 2 2 3 2 2 2 2 2 3 3 3 3 3 3 3 3 3 3 3 3\n",
      " 3 3 3 3 3 3 3 3 3 3 3 3 3 3 3 3 3 3 3 3 3 3 3 3 3 3 3 3 3 3 3 3 3 3 3 2 3\n",
      " 3 2 2 2 2 2 2 2 2 2 2 2 2 4 4 4 4 4 4 4 4 4 4 4 4 4 4 4 4 4 4 4 4 4 4 4 4\n",
      " 4 4 4 4 4 4 4 4 4 4 4 4 4 4 4 4 4 4 4 4 4 0 1 1 1 0 0 0 1 1 1 1 2 2 0 0 0\n",
      " 0 1 1 1 1 2 2 2 2 2 2 2 2 2 2 2 2 2 2 2 2 2 2 2 2 2 2 2 2 2 2 2 2 2 2 2 3\n",
      " 2 2 3 3 2 3 3 3 3 3 2 2 3 3 3 3 3 3 3 3 3 3 3 3 3 2 2 2 2 2 2 2 2 2 2 2 2\n",
      " 2 2 2 2 2 4 4 4 4 4 4 4 4 4 4 4 4 4 4 4 4 4 4 4 4 4 4 4 4 4 4 4 4 4 1 1 2\n",
      " 2 2 2 4 4 4 4 4 4 4 4 4 4 4 4 4 4 4 0 1 0 0 0 0 0 0 0 0 0 1 0 0 1 1 1 2 2\n",
      " 2 2 2 2 2 2 2 2 2 2 2 2 2 1 2 2 2 2 2 2 2 2 2 0 0 0 0 0 0 0 0 0 0 0 0 0 0\n",
      " 0 0 1 0 1 1 1 1 1 1 1 0 0 0 0 0 0 0 0 0 0 1 1 1 1 1 1 2 2 2 2 2 2 2 2 2 2\n",
      " 2 2 2 0 0]\n"
     ]
    }
   ],
   "source": [
    "import numpy as np\n",
    "\n",
    "# Define the path to the .npy file\n",
    "file_path = '/mnt/guido-data/hmc/xsleepnet/1.npy'\n",
    "file_path = '/mnt/guido-data/hmc/labels/1.npy'\n",
    "try:\n",
    "    # Load the .npy file using numpy.memmap\n",
    "    data = np.memmap(file_path, dtype='float32', mode='r')\n",
    "    y = np.memmap(file_path, dtype='int16', mode='r')\n",
    "    # Print the loaded data\n",
    "    print(y)\n",
    "except Exception as e:\n",
    "    print(f\"Error loading .npy file: {e}\")\n",
    "\n",
    "    "
   ]
  },
  {
   "cell_type": "code",
   "execution_count": 8,
   "metadata": {},
   "outputs": [
    {
     "name": "stdout",
     "output_type": "stream",
     "text": [
      "(428,)\n",
      "856\n"
     ]
    }
   ],
   "source": [
    "print(data.shape)\n",
    "print(len(y))"
   ]
  },
  {
   "cell_type": "code",
   "execution_count": null,
   "metadata": {},
   "outputs": [],
   "source": [
    "print(data)"
   ]
  },
  {
   "cell_type": "code",
   "execution_count": 13,
   "metadata": {},
   "outputs": [
    {
     "name": "stderr",
     "output_type": "stream",
     "text": [
      "\u001b[32m2024-10-21 15:19:08.380\u001b[0m | \u001b[1mINFO    \u001b[0m | \u001b[36mphysioex.utils.data_folder\u001b[0m:\u001b[36mset_data_folder\u001b[0m:\u001b[36m25\u001b[0m - \u001b[1mData folder set to /mnt/guido-data/\u001b[0m\n"
     ]
    }
   ],
   "source": [
    "from physioex.data.datamodule import PhysioExDataModule\n",
    "\n",
    "datamodule = PhysioExDataModule(\n",
    "    datasets=[\"hmc\"],\n",
    "    versions=None,\n",
    "    batch_size=15,\n",
    "    selected_channels=[\"EEG\"],\n",
    "    sequence_length=10,\n",
    "    data_folder=\"/mnt/guido-data/\",\n",
    "    preprocessing = \"xsleepnet\",\n",
    "    target_transform= None\n",
    ")\n",
    "\n"
   ]
  },
  {
   "cell_type": "code",
   "execution_count": 10,
   "metadata": {},
   "outputs": [
    {
     "name": "stdout",
     "output_type": "stream",
     "text": [
      "torch.Size([10, 1, 29, 129]) torch.Size([10])\n",
      "dp /mnt/guido-data/hmc/xsleepnet/6.npy\n",
      "lp /mnt/guido-data/hmc/labels/6.npy\n",
      "sw 1034\n",
      "is [4, 29, 129]\n",
      "2\n"
     ]
    }
   ],
   "source": [
    "print(len(datamodule.dataset[5555]))"
   ]
  },
  {
   "cell_type": "code",
   "execution_count": 12,
   "metadata": {},
   "outputs": [
    {
     "name": "stdout",
     "output_type": "stream",
     "text": [
      "torch.Size([10, 1, 29, 129]) torch.Size([10])\n",
      "dp /mnt/guido-data/hmc/xsleepnet/1.npy\n",
      "lp /mnt/guido-data/hmc/labels/1.npy\n",
      "sw 856\n",
      "is [4, 29, 129]\n",
      "2\n"
     ]
    }
   ],
   "source": [
    "print(len(datamodule.dataset[1234]))"
   ]
  },
  {
   "cell_type": "code",
   "execution_count": 14,
   "metadata": {},
   "outputs": [
    {
     "name": "stdout",
     "output_type": "stream",
     "text": [
      "torch.Size([10, 1, 29, 129]) torch.Size([10])\n",
      "dp /mnt/guido-data/hmc/xsleepnet/0.npy\n",
      "lp /mnt/guido-data/hmc/labels/0.npy\n",
      "sw 854\n",
      "is [4, 29, 129]\n",
      "2\n"
     ]
    }
   ],
   "source": [
    "print(len(datamodule.dataset[75]))"
   ]
  },
  {
   "cell_type": "code",
   "execution_count": 8,
   "metadata": {},
   "outputs": [
    {
     "name": "stdout",
     "output_type": "stream",
     "text": [
      "torch.Size([10, 1, 29, 129]) torch.Size([10])\n",
      "dp /mnt/guido-data/hmc/xsleepnet/2.npy\n",
      "lp /mnt/guido-data/hmc/labels/2.npy\n",
      "sw 954\n",
      "is [4, 29, 129]\n",
      "2\n"
     ]
    }
   ],
   "source": [
    "print(len(datamodule.dataset[2351]))"
   ]
  },
  {
   "cell_type": "code",
   "execution_count": null,
   "metadata": {},
   "outputs": [],
   "source": []
  }
 ],
 "metadata": {
  "kernelspec": {
   "display_name": "tesi",
   "language": "python",
   "name": "python3"
  },
  "language_info": {
   "codemirror_mode": {
    "name": "ipython",
    "version": 3
   },
   "file_extension": ".py",
   "mimetype": "text/x-python",
   "name": "python",
   "nbconvert_exporter": "python",
   "pygments_lexer": "ipython3",
   "version": "3.10.14"
  }
 },
 "nbformat": 4,
 "nbformat_minor": 2
}
