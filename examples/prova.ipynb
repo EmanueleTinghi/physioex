{
 "cells": [
  {
   "cell_type": "code",
   "execution_count": 2,
   "metadata": {},
   "outputs": [
    {
     "name": "stdout",
     "output_type": "stream",
     "text": [
      "134223\n",
      "Processing first batch\n",
      "1.914208173751831\n",
      "(256, 21, 3, 129, 29)\n",
      "0.047728776931762695\n",
      "torch.Size([256, 21, 3, 129, 31])\n"
     ]
    }
   ],
   "source": [
    "from scipy.signal import spectrogram\n",
    "from torch.utils.data import DataLoader\n",
    "from physioex.data import PhysioExDataset\n",
    "from torchaudio.transforms import Spectrogram\n",
    "import time\n",
    "\n",
    "data = PhysioExDataset(\n",
    "    datasets=[\"hmc\"],  # you can read different datasets merged together in this way\n",
    "    preprocessing=\"raw\",\n",
    "    selected_channels=[\"EEG\", \"EOG\", \"EMG\"],\n",
    "    data_folder=\"/mnt/guido-data/\",\n",
    ")\n",
    "\n",
    "loader = DataLoader( data, batch_size = 256)\n",
    "\n",
    "spec = Spectrogram(\n",
    "    n_fft = 256,\n",
    "    win_length = 200,\n",
    "    hop_length = 100,\n",
    "    center = True,\n",
    ").to(\"cuda\")\n",
    "\n",
    "for x_batch, y_batch in loader:\n",
    "    print( \"Processing first batch\")\n",
    "    time_start = time.time()\n",
    "    _, _, x_transf = spectrogram(\n",
    "        x_batch.numpy(),\n",
    "        fs=100,\n",
    "        window=\"hamming\",\n",
    "        nperseg=200,\n",
    "        noverlap=100,\n",
    "        nfft=256,\n",
    "    )\n",
    "    time_end = time.time()\n",
    "    print( time_end - time_start )\n",
    "    print( x_transf.shape )\n",
    "   \n",
    "    time_start = time.time()\n",
    "    x_transf = spec( x_batch.to(\"cuda\") )\n",
    "    time_end = time.time()\n",
    "\n",
    "    print( time_end - time_start )\n",
    "    print( x_transf.shape )\n",
    "    break\n",
    "\n"
   ]
  },
  {
   "cell_type": "code",
   "execution_count": null,
   "metadata": {},
   "outputs": [],
   "source": []
  }
 ],
 "metadata": {
  "kernelspec": {
   "display_name": "physioex",
   "language": "python",
   "name": "python3"
  },
  "language_info": {
   "codemirror_mode": {
    "name": "ipython",
    "version": 3
   },
   "file_extension": ".py",
   "mimetype": "text/x-python",
   "name": "python",
   "nbconvert_exporter": "python",
   "pygments_lexer": "ipython3",
   "version": "3.12.0"
  }
 },
 "nbformat": 4,
 "nbformat_minor": 2
}
