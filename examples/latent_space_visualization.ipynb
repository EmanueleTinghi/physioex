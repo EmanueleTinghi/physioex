{
 "cells": [
  {
   "cell_type": "code",
   "execution_count": 5,
   "metadata": {},
   "outputs": [
    {
     "name": "stderr",
     "output_type": "stream",
     "text": [
      "/tmp/ipykernel_1820807/3297475300.py:3: DeprecationWarning: Use of .. or absolute path in a resource path is not allowed and will raise exceptions in a future release.\n",
      "  path = pkg.resource_filename(__name__, \"../\")\n"
     ]
    }
   ],
   "source": [
    "import pkg_resources as pkg\n",
    "\n",
    "path = pkg.resource_filename(__name__, \"../\")\n",
    "\n",
    "import os\n",
    "\n",
    "os.chdir(path)"
   ]
  },
  {
   "cell_type": "code",
   "execution_count": 6,
   "metadata": {},
   "outputs": [],
   "source": [
    "import torch\n",
    "from pytorch_lightning import LightningModule\n",
    "\n",
    "from sklearn.decomposition import PCA\n",
    "from sklearn.cluster import KMeans\n",
    "from sklearn.metrics import adjusted_rand_score\n",
    "\n",
    "import matplotlib.pyplot as plt\n",
    "\n",
    "import numpy as np\n",
    "import seaborn as sns\n",
    "import pandas as pd\n",
    "\n",
    "#from physioex.data import SleepPhysionet, TimeDistributedModule\n",
    "#from physioex.data import datamodule\n",
    "#from physioex.train.networks import TinySleepNet, ContrTinySleepNet\n",
    "#from physioex.train.networks import seqsleepnet"
   ]
  },
  {
   "cell_type": "code",
   "execution_count": 7,
   "metadata": {},
   "outputs": [],
   "source": [
    "def compute_projections(model, datamodule, contr=False):\n",
    "    train_projections = []\n",
    "    y_train_true = []\n",
    "    y_train_pred = []\n",
    "    first = True\n",
    "    for batch in datamodule.train_dataloader():\n",
    "        inputs, y_true = batch          \n",
    "\n",
    "        y_train_true.append(y_true)\n",
    "        if contr:\n",
    "            projections, y_pred = model(inputs.to(model.device))\n",
    "        else:\n",
    "            projections, y_pred = model.encode(inputs.to(model.device))\n",
    "\n",
    "        y_train_pred.append(y_pred.cpu().detach().numpy())\n",
    "        train_projections.append(projections.cpu().detach().numpy())\n",
    "\n",
    "        del projections, y_pred\n",
    "\n",
    "    y_train_true = np.concatenate(y_train_true).reshape(-1)\n",
    "    train_projections = np.concatenate(train_projections).reshape(\n",
    "        y_train_true.shape[0], -1\n",
    "    )\n",
    "    y_train_pred = np.concatenate(y_train_pred).reshape(-1, 5)\n",
    "\n",
    "    return train_projections, y_train_true, y_train_pred"
   ]
  },
  {
   "cell_type": "code",
   "execution_count": 8,
   "metadata": {},
   "outputs": [
    {
     "name": "stderr",
     "output_type": "stream",
     "text": [
      "Seed set to 42\n",
      "/home/tinghi/miniconda3/envs/tesi/lib/python3.10/site-packages/lightning_fabric/utilities/cloud_io.py:57: You are using `torch.load` with `weights_only=False` (the current default value), which uses the default pickle module implicitly. It is possible to construct malicious pickle data which will execute arbitrary code during unpickling (See https://github.com/pytorch/pytorch/blob/main/SECURITY.md#untrusted-models for more details). In a future release, the default value for `weights_only` will be flipped to `True`. This limits the functions that could be executed during unpickling. Arbitrary objects will no longer be allowed to be loaded via this mode unless they are explicitly allowlisted by the user via `torch.serialization.add_safe_globals`. We recommend you start setting `weights_only=True` for any use case where you don't have full control of the loaded file. Please open an issue on GitHub for any issues related to this experimental feature.\n",
      "/home/tinghi/miniconda3/envs/tesi/lib/python3.10/site-packages/pytorch_lightning/utilities/parsing.py:208: Attribute 'nn' is an instance of `nn.Module` and is already saved during checkpointing. It is recommended to ignore them using `self.save_hyperparameters(ignore=['nn'])`.\n"
     ]
    },
    {
     "name": "stdout",
     "output_type": "stream",
     "text": [
      "weights: tensor([1., 1., 1., 1., 1.])\n",
      "weights: tensor([1., 1., 1., 1., 1.])\n",
      "weights: tensor([1., 1., 1., 1., 1.])\n",
      "weights: tensor([1., 1., 1., 1., 1.])\n"
     ]
    }
   ],
   "source": [
    "from physioex.models import load_pretrained_model\n",
    "path_ssn = \"/home/tinghi/physioex/models/ssn_scl/fold=-1-epoch=17-step=28348-val_acc=0.83.ckpt\"\n",
    "path_ssn_sum = \"/home/tinghi/physioex/models/ssn_epseq_sum_scl/fold=-1-epoch=18-step=29323-val_acc=0.82.ckpt\"\n",
    "path_ssn_conc = \"/home/tinghi/physioex/models/ssn_epseq_conc_scl/fold=-1-epoch=16-step=25482-val_acc=0.82.ckpt\"\n",
    "path_ssn_epoch = \"/home/tinghi/physioex/models/ssn_ep_scl/fold=-1-epoch=17-step=28348-val_acc=0.81.ckpt\"\n",
    "\n",
    "seqsleepnet_model = load_pretrained_model(\"seqsleepnet\", in_channels=1, sequence_length=10, loss=\"scl\", ckpt_path=path_ssn).eval()\n",
    "seqsleepnet_sum_model = load_pretrained_model(\"seqsleepnet\", in_channels=1, sequence_length=10, loss=\"scl\", ckpt_path=path_ssn_sum).eval()\n",
    "seqsleepnet_conc_model = load_pretrained_model(\"seqsleepnet\", in_channels=1, sequence_length=10, loss=\"scl\", ckpt_path=path_ssn_conc).eval()\n",
    "seqsleepnet_epoch_model = load_pretrained_model(\"seqsleepnet\", in_channels=1, sequence_length=10, loss=\"scl\", ckpt_path=path_ssn_epoch).eval()\n"
   ]
  },
  {
   "cell_type": "code",
   "execution_count": 9,
   "metadata": {},
   "outputs": [
    {
     "name": "stderr",
     "output_type": "stream",
     "text": [
      "\u001b[32m2024-09-30 17:10:48.491\u001b[0m | \u001b[1mINFO    \u001b[0m | \u001b[36mphysioex.utils.data_folder\u001b[0m:\u001b[36mset_data_folder\u001b[0m:\u001b[36m25\u001b[0m - \u001b[1mData folder set to /mnt/guido-data/\u001b[0m\n",
      "\u001b[32m2024-09-30 17:10:48.501\u001b[0m | \u001b[1mINFO    \u001b[0m | \u001b[36mphysioex.data.dataset\u001b[0m:\u001b[36m__init__\u001b[0m:\u001b[36m84\u001b[0m - \u001b[1mShape (3, 29, 129)\u001b[0m\n",
      "\u001b[32m2024-09-30 17:10:48.502\u001b[0m | \u001b[1mINFO    \u001b[0m | \u001b[36mphysioex.data.dataset\u001b[0m:\u001b[36m__init__\u001b[0m:\u001b[36m85\u001b[0m - \u001b[1msel channels ['EEG']\u001b[0m\n",
      "\u001b[32m2024-09-30 17:10:48.503\u001b[0m | \u001b[1mINFO    \u001b[0m | \u001b[36mphysioex.data.dataset\u001b[0m:\u001b[36m__init__\u001b[0m:\u001b[36m89\u001b[0m - \u001b[1mShape after (1, 29, 129)\u001b[0m\n",
      "\u001b[32m2024-09-30 17:10:48.504\u001b[0m | \u001b[1mINFO    \u001b[0m | \u001b[36mphysioex.data.dataset\u001b[0m:\u001b[36m__init__\u001b[0m:\u001b[36m96\u001b[0m - \u001b[1mtorch.Size([1, 29, 129])\u001b[0m\n"
     ]
    }
   ],
   "source": [
    "from physioex.data.datamodule import PhysioExDataModule\n",
    "\n",
    "datamodule = PhysioExDataModule(\n",
    "    datasets=[\"mass\"],\n",
    "    versions=None,\n",
    "    batch_size=15,\n",
    "    selected_channels=[\"EEG\"],\n",
    "    sequence_length=10,\n",
    "    data_folder=\"/mnt/guido-data/\",\n",
    "    preprocessing = \"xsleepnet\",\n",
    "    target_transform= None\n",
    ")\n",
    "\n",
    "#print(datamodule.train_idx[206579])"
   ]
  },
  {
   "cell_type": "code",
   "execution_count": 10,
   "metadata": {},
   "outputs": [
    {
     "name": "stdout",
     "output_type": "stream",
     "text": [
      "227070\n",
      "---\n",
      "2\n",
      "<class 'torch.Tensor'>   <class 'torch.Tensor'>\n",
      "---\n",
      "10\n",
      "tensor([0, 0, 0, 0, 0, 0, 0, 0, 0, 0])\n",
      "---\n",
      "torch.Size([1, 29, 129])\n",
      "---\n",
      "203237\n",
      "15\n",
      "13550\n",
      "227070\n",
      "2\n",
      "---\n"
     ]
    }
   ],
   "source": [
    "print(len(datamodule.dataset))\n",
    "print(\"---\")\n",
    "print(len(datamodule.dataset[0]))\n",
    "print(type(datamodule.dataset[0][0]), \" \", type(datamodule.dataset[0][1]))\n",
    "print(\"---\")\n",
    "print(len(datamodule.dataset[0][0]))\n",
    "print(datamodule.dataset[0][1])\n",
    "print(\"---\")\n",
    "print(datamodule.dataset[0][0][1].shape)\n",
    "print(\"---\")\n",
    "\n",
    "tdl = datamodule.train_dataloader()\n",
    "print(len(datamodule.train_idx))\n",
    "print(datamodule.batch_size)\n",
    "print(len(tdl))\n",
    "print(len(tdl.dataset))\n",
    "print(len(tdl.dataset[0]))\n",
    "print(\"---\")\n"
   ]
  },
  {
   "cell_type": "code",
   "execution_count": null,
   "metadata": {},
   "outputs": [],
   "source": [
    "import matplotlib.pyplot as plt\n",
    "import torch\n",
    "\n",
    "# Assuming the tensor is obtained from the dataset\n",
    "tensor1 = datamodule.dataset.__getitem__(0)[0][0]\n",
    "tensor2 = datamodule.dataset.__getitem__(1300)[0][0]\n",
    "\n",
    "first_dim = torch.arange(29)\n",
    "second_dim = torch.arange(129)\n",
    "third_dim1 = tensor1[0, first_dim[:, None], second_dim]\n",
    "third_dim2 = tensor2[0, first_dim[:, None], second_dim]\n",
    "# Create a meshgrid for the x and y coordinates\n",
    "X, Y = torch.meshgrid(first_dim, second_dim, indexing='ij')\n",
    "\n",
    "# Create a figure with two subplots\n",
    "fig, (ax1, ax2) = plt.subplots(1, 2, figsize=(20, 6))\n",
    "\n",
    "# Plot the first spectrogram\n",
    "c1 = ax1.pcolormesh(X, Y, third_dim1, shading='auto')\n",
    "fig.colorbar(c1, ax=ax1, label='Intensity')\n",
    "ax1.set_xlabel('First Dimension (x-coordinates)')\n",
    "ax1.set_ylabel('Second Dimension (y-coordinates)')\n",
    "ax1.set_title('Spectrogram 1')\n",
    "\n",
    "# Plot the second spectrogram (assuming you have another tensor for the second plot)\n",
    "# For demonstration, we'll use the same tensor\n",
    "c2 = ax2.pcolormesh(X, Y, third_dim2, shading='auto')\n",
    "fig.colorbar(c2, ax=ax2, label='Intensity')\n",
    "ax2.set_xlabel('First Dimension (x-coordinates)')\n",
    "ax2.set_ylabel('Second Dimension (y-coordinates)')\n",
    "ax2.set_title('Spectrogram 2')\n"
   ]
  },
  {
   "cell_type": "code",
   "execution_count": null,
   "metadata": {},
   "outputs": [],
   "source": [
    "from physioex.models import load_pretrained_model\n",
    "path_ssn = \"/home/tinghi/physioex/models/ssn_scl/fold=-1-epoch=17-step=28348-val_acc=0.83.ckpt\"\n",
    "path_ssn_sum = \"/home/tinghi/physioex/models/ssn_epseq_sum_scl/fold=-1-epoch=18-step=29323-val_acc=0.82.ckpt\"\n",
    "path_ssn_conc = \"/home/tinghi/physioex/models/ssn_epseq_conc_scl/fold=-1-epoch=16-step=25482-val_acc=0.82.ckpt\"\n",
    "path_ssn_epoch = \"/home/tinghi/physioex/models/ssn_ep_scl/fold=-1-epoch=17-step=28348-val_acc=0.81.ckpt\"\n",
    "\n",
    "seqsleepnet_model = load_pretrained_model(\"seqsleepnet\", in_channels=1, sequence_length=10, loss=\"scl\", ckpt_path=path_ssn).eval()\n",
    "seqsleepnet_sum_model = load_pretrained_model(\"seqsleepnet\", in_channels=1, sequence_length=10, loss=\"scl\", ckpt_path=path_ssn_sum).eval()\n",
    "seqsleepnet_conc_model = load_pretrained_model(\"seqsleepnet\", in_channels=1, sequence_length=10, loss=\"scl\", ckpt_path=path_ssn_conc).eval()\n",
    "seqsleepnet_epoch_model = load_pretrained_model(\"seqsleepnet\", in_channels=1, sequence_length=10, loss=\"scl\", ckpt_path=path_ssn_epoch).eval()\n"
   ]
  },
  {
   "cell_type": "code",
   "execution_count": 19,
   "metadata": {},
   "outputs": [
    {
     "name": "stderr",
     "output_type": "stream",
     "text": [
      "\u001b[32m2024-09-26 08:01:26.484\u001b[0m | \u001b[1mINFO    \u001b[0m | \u001b[36mphysioex.utils.data_folder\u001b[0m:\u001b[36mset_data_folder\u001b[0m:\u001b[36m25\u001b[0m - \u001b[1mData folder set to /mnt/guido-data/\u001b[0m\n"
     ]
    },
    {
     "name": "stdout",
     "output_type": "stream",
     "text": [
      "227070\n",
      "2\n",
      "10\n",
      "torch.Size([1, 29, 129])\n",
      "tensor([2, 2, 2, 2, 2, 2, 2, 2, 2, 2])\n"
     ]
    }
   ],
   "source": [
    "from physioex.data.datamodule import PhysioExDataModule\n",
    "\n",
    "datamodule = PhysioExDataModule(\n",
    "    datasets=[\"mass\"],\n",
    "    versions=None,\n",
    "    batch_size=15,\n",
    "    selected_channels=[\"EEG\"],\n",
    "    sequence_length=10,\n",
    "    data_folder=\"/mnt/guido-data/\",\n",
    "    preprocessing = \"xsleepnet\",\n",
    "    target_transform= None,\n",
    ")\n",
    "print(len(datamodule.dataset))\n",
    "print(len(datamodule.dataset[0]))\n",
    "print(len(datamodule.dataset[0][0]))\n",
    "print(datamodule.dataset[0][0][1].shape)\n",
    "print(datamodule.dataset[2359][1])"
   ]
  },
  {
   "cell_type": "code",
   "execution_count": null,
   "metadata": {},
   "outputs": [],
   "source": [
    "import matplotlib.pyplot as plt\n",
    "import torch\n",
    "\n",
    "# Assuming the tensor is obtained from the dataset\n",
    "tensor1 = datamodule.dataset.__getitem__(0)[0][0]\n",
    "tensor2 = datamodule.dataset.__getitem__(1300)[0][0]\n",
    "\n",
    "first_dim = torch.arange(29)\n",
    "second_dim = torch.arange(129)\n",
    "third_dim1 = tensor1[0, first_dim[:, None], second_dim]\n",
    "third_dim2 = tensor2[0, first_dim[:, None], second_dim]\n",
    "# Create a meshgrid for the x and y coordinates\n",
    "X, Y = torch.meshgrid(first_dim, second_dim, indexing='ij')\n",
    "\n",
    "# Create a figure with two subplots\n",
    "fig, (ax1, ax2) = plt.subplots(1, 2, figsize=(20, 6))\n",
    "\n",
    "# Plot the first spectrogram\n",
    "c1 = ax1.pcolormesh(X, Y, third_dim1, shading='auto')\n",
    "fig.colorbar(c1, ax=ax1, label='Intensity')\n",
    "ax1.set_xlabel('First Dimension (x-coordinates)')\n",
    "ax1.set_ylabel('Second Dimension (y-coordinates)')\n",
    "ax1.set_title('Spectrogram 1')\n",
    "\n",
    "# Plot the second spectrogram (assuming you have another tensor for the second plot)\n",
    "# For demonstration, we'll use the same tensor\n",
    "c2 = ax2.pcolormesh(X, Y, third_dim2, shading='auto')\n",
    "fig.colorbar(c2, ax=ax2, label='Intensity')\n",
    "ax2.set_xlabel('First Dimension (x-coordinates)')\n",
    "ax2.set_ylabel('Second Dimension (y-coordinates)')\n",
    "ax2.set_title('Spectrogram 2')\n"
   ]
  },
  {
   "cell_type": "code",
   "execution_count": null,
   "metadata": {},
   "outputs": [],
   "source": [
    "# Get the train dataloader\n",
    "train_dataloader = datamodule.train_dataloader()\n",
    "\n",
    "# Create an iterator from the dataloader\n",
    "train_dataloader_iter = iter(train_dataloader)\n",
    "\n",
    "# Get the first element\n",
    "first_element = next(train_dataloader_iter)\n",
    "\n",
    "# Print the first element\n",
    "print(first_element)"
   ]
  },
  {
   "cell_type": "code",
   "execution_count": null,
   "metadata": {},
   "outputs": [],
   "source": [
    "# Get the train dataloader\n",
    "train_dataloader = datamodule.train_dataloader()\n",
    "\n",
    "# Create an iterator from the dataloader\n",
    "train_dataloader_iter = iter(train_dataloader)\n",
    "\n",
    "# Get the first element\n",
    "first_element = next(train_dataloader_iter)\n",
    "\n",
    "# Print the first element\n",
    "print(first_element)"
   ]
  },
  {
   "cell_type": "markdown",
   "metadata": {},
   "source": [
    "## PCA components plot\n",
    "\n",
    "### Extracting the latent space projections from the similarity model"
   ]
  },
  {
   "cell_type": "code",
   "execution_count": null,
   "metadata": {},
   "outputs": [],
   "source": [
    "seqsleepnet_model\n",
    "seqsleepnet_sum_model\n",
    "seqsleepnet_conc_model\n",
    "seqsleepnet_epoch_model"
   ]
  },
  {
   "cell_type": "code",
   "execution_count": 33,
   "metadata": {},
   "outputs": [],
   "source": [
    "train_projections, y_train_true, y_train_pred = compute_projections(\n",
    "    seqsleepnet_model, datamodule, contr=False\n",
    ")\n",
    "preds_snn = np.argmax(y_train_pred, axis=1)"
   ]
  },
  {
   "cell_type": "code",
   "execution_count": 11,
   "metadata": {},
   "outputs": [
    {
     "name": "stdout",
     "output_type": "stream",
     "text": [
      "ssn end\n",
      "ssn sum end\n",
      "ssn conc end\n",
      "ssn epoch end\n"
     ]
    }
   ],
   "source": [
    "train_projections_ssn, y_train_true_ssn, y_train_pred_ssn = compute_projections(\n",
    "    seqsleepnet_model, datamodule, contr=False\n",
    ")\n",
    "preds_snn = np.argmax(y_train_pred_ssn, axis=1)\n",
    "print(\"ssn end\")\n",
    "\n",
    "train_projections_ssn_sum, y_train_true_ssn_sum, y_train_pred_ssn_sum = compute_projections(\n",
    "    seqsleepnet_sum_model, datamodule, contr=False\n",
    ")\n",
    "preds_snn_sum = np.argmax(y_train_pred_ssn_sum, axis=1)\n",
    "print(\"ssn sum end\")\n",
    "\n",
    "train_projections_ssn_conc, y_train_true_ssn_conc, y_train_pred_ssn_conc = compute_projections(\n",
    "    seqsleepnet_conc_model, datamodule, contr=False\n",
    ")\n",
    "preds_snn_conc = np.argmax(y_train_pred_ssn_conc, axis=1)\n",
    "print(\"ssn conc end\")\n",
    "\n",
    "train_projections_ssn_epoch, y_train_true_ssn_epoch, y_train_pred_ssn_epoch = compute_projections(\n",
    "    seqsleepnet_epoch_model, datamodule, contr=False\n",
    ")\n",
    "preds_snn_epoch = np.argmax(y_train_pred_ssn_epoch, axis=1)\n",
    "print(\"ssn epoch end\")"
   ]
  },
  {
   "cell_type": "code",
   "execution_count": 12,
   "metadata": {},
   "outputs": [],
   "source": [
    "true_indx_ssn = [True for i in range(len(y_train_true_ssn))]\n",
    "true_indx_ssn_sum = [True for i in range(len(y_train_true_ssn_sum))]\n",
    "true_indx_ssn_conc = [True for i in range(len(y_train_true_ssn_conc))]\n",
    "true_indx_ssn_epoch = [True for i in range(len(y_train_true_ssn_epoch))]\n",
    "#true_indx = [True for i in range(len(contr_y_train_true))]"
   ]
  },
  {
   "cell_type": "markdown",
   "metadata": {},
   "source": [
    "### K-medoids"
   ]
  },
  {
   "cell_type": "code",
   "execution_count": 13,
   "metadata": {},
   "outputs": [
    {
     "data": {
      "text/plain": [
       "'seqsleepnet_model\\nseqsleepnet_sum_model\\nseqsleepnet_conc_model\\nseqsleepnet_epoch_model'"
      ]
     },
     "execution_count": 13,
     "metadata": {},
     "output_type": "execute_result"
    }
   ],
   "source": [
    "import pandas as pd\n",
    "from sklearn_extra.cluster import KMedoids\n",
    "import matplotlib.pyplot as plt\n",
    "import torch\n",
    "import math\n",
    "\n",
    "'''seqsleepnet_model\n",
    "seqsleepnet_sum_model\n",
    "seqsleepnet_conc_model\n",
    "seqsleepnet_epoch_model'''"
   ]
  },
  {
   "cell_type": "code",
   "execution_count": 14,
   "metadata": {},
   "outputs": [],
   "source": [
    "train_projections = train_projections_ssn_conc\n",
    "y_train_true = y_train_true_ssn_conc\n",
    "figure_title = \"SSN-EpochSequence-Conc\" + \" SimilarityCombinedLoss\""
   ]
  },
  {
   "cell_type": "code",
   "execution_count": 15,
   "metadata": {},
   "outputs": [
    {
     "name": "stdout",
     "output_type": "stream",
     "text": [
      "torch.Size([1, 29, 129])\n",
      "torch.Size([1, 29, 129])\n"
     ]
    }
   ],
   "source": [
    "mean = datamodule.dataset.scaling[0][0]\n",
    "std = datamodule.dataset.scaling[0][1]\n",
    "print(mean.shape)\n",
    "print(std.shape)"
   ]
  },
  {
   "cell_type": "code",
   "execution_count": 16,
   "metadata": {},
   "outputs": [],
   "source": [
    "train_projections_df = pd.DataFrame(train_projections)\n",
    "y_train_true_df = pd.DataFrame(y_train_true, columns=['y_train_true'])\n",
    "\n",
    "result_df = pd.concat([train_projections_df, y_train_true_df], axis=1)"
   ]
  },
  {
   "cell_type": "code",
   "execution_count": 17,
   "metadata": {},
   "outputs": [
    {
     "name": "stdout",
     "output_type": "stream",
     "text": [
      "Index of the cluster center in the original sampled_df for class 0: 821814\n",
      "Index of the cluster center in the original sampled_df for class 2: 821432\n",
      "Index of the cluster center in the original sampled_df for class 4: 1264742\n",
      "Index of the cluster center in the original sampled_df for class 1: 636376\n",
      "Index of the cluster center in the original sampled_df for class 3: 2028347\n"
     ]
    }
   ],
   "source": [
    "# Sample the dataset\n",
    "sampled_df = result_df.sample(n=20000, random_state=0)  # Adjust the sample size as needed\n",
    "medoids_idxs = {}\n",
    "\n",
    "# Iterate over each unique class in the 'y_train_true' column\n",
    "for class_label in sampled_df['y_train_true'].unique():\n",
    "    # Filter the dataframe to include only rows of the current class\n",
    "    class_df = sampled_df[sampled_df['y_train_true'] == class_label]\n",
    "    \n",
    "    # Apply k-medoids clustering with k=1\n",
    "    kmedoids = KMedoids(n_clusters=1, random_state=0)\n",
    "    kmedoids.fit(class_df.iloc[:, :-1])  # Exclude the 'y_train_true' column\n",
    "    \n",
    "    # Retrieve the index of the cluster center in the original sampled_df\n",
    "    medoid_index = class_df.index[kmedoids.medoid_indices_][0]\n",
    "    print(f\"Index of the cluster center in the original sampled_df for class {class_label}: {medoid_index}\")\n",
    "    medoids_idxs[class_label] = medoid_index"
   ]
  },
  {
   "cell_type": "code",
   "execution_count": 18,
   "metadata": {},
   "outputs": [],
   "source": [
    "\n",
    "medoid_0 = datamodule.dataset[math.floor(medoids_idxs[0]/10)][0][medoids_idxs[0]%10]\n",
    "medoid_1 = datamodule.dataset[math.floor(medoids_idxs[1]/10)][0][medoids_idxs[1]%10]\n",
    "medoid_2 = datamodule.dataset[math.floor(medoids_idxs[2]/10)][0][medoids_idxs[2]%10]\n",
    "medoid_3 = datamodule.dataset[math.floor(medoids_idxs[3]/10)][0][medoids_idxs[3]%10]\n",
    "medoid_4 = datamodule.dataset[math.floor(medoids_idxs[4]/10)][0][medoids_idxs[4]%10]"
   ]
  },
  {
   "cell_type": "code",
   "execution_count": 19,
   "metadata": {},
   "outputs": [
    {
     "ename": "TypeError",
     "evalue": "Dimensions of C (1, 29, 129) should be one smaller than X(129) and Y(29) while using shading='flat' see help(pcolormesh)",
     "output_type": "error",
     "traceback": [
      "\u001b[0;31m---------------------------------------------------------------------------\u001b[0m",
      "\u001b[0;31mTypeError\u001b[0m                                 Traceback (most recent call last)",
      "Cell \u001b[0;32mIn[19], line 25\u001b[0m\n\u001b[1;32m     23\u001b[0m \u001b[38;5;66;03m# First row, first column\u001b[39;00m\n\u001b[1;32m     24\u001b[0m ax1 \u001b[38;5;241m=\u001b[39m fig\u001b[38;5;241m.\u001b[39madd_subplot(gs[\u001b[38;5;241m0\u001b[39m, \u001b[38;5;241m0\u001b[39m])\n\u001b[0;32m---> 25\u001b[0m c1 \u001b[38;5;241m=\u001b[39m \u001b[43max1\u001b[49m\u001b[38;5;241;43m.\u001b[39;49m\u001b[43mpcolormesh\u001b[49m\u001b[43m(\u001b[49m\u001b[43mX\u001b[49m\u001b[43m,\u001b[49m\u001b[43m \u001b[49m\u001b[43mY\u001b[49m\u001b[43m,\u001b[49m\u001b[43m \u001b[49m\u001b[43mthird_dim0\u001b[49m\u001b[43m,\u001b[49m\u001b[43m \u001b[49m\u001b[43mshading\u001b[49m\u001b[38;5;241;43m=\u001b[39;49m\u001b[38;5;124;43m'\u001b[39;49m\u001b[38;5;124;43mauto\u001b[39;49m\u001b[38;5;124;43m'\u001b[39;49m\u001b[43m,\u001b[49m\u001b[43m \u001b[49m\u001b[43mvmin\u001b[49m\u001b[38;5;241;43m=\u001b[39;49m\u001b[43mvmin\u001b[49m\u001b[43m,\u001b[49m\u001b[43m \u001b[49m\u001b[43mvmax\u001b[49m\u001b[38;5;241;43m=\u001b[39;49m\u001b[43mvmax\u001b[49m\u001b[43m)\u001b[49m\n\u001b[1;32m     26\u001b[0m fig\u001b[38;5;241m.\u001b[39mcolorbar(c1, ax\u001b[38;5;241m=\u001b[39max1, label\u001b[38;5;241m=\u001b[39m\u001b[38;5;124m'\u001b[39m\u001b[38;5;124mIntensity\u001b[39m\u001b[38;5;124m'\u001b[39m)\n\u001b[1;32m     27\u001b[0m ax1\u001b[38;5;241m.\u001b[39mset_xlabel(\u001b[38;5;124m\"\u001b[39m\u001b[38;5;124mSpectral Column\u001b[39m\u001b[38;5;124m\"\u001b[39m)\n",
      "File \u001b[0;32m~/miniconda3/envs/tesi/lib/python3.10/site-packages/matplotlib/__init__.py:1473\u001b[0m, in \u001b[0;36m_preprocess_data.<locals>.inner\u001b[0;34m(ax, data, *args, **kwargs)\u001b[0m\n\u001b[1;32m   1470\u001b[0m \u001b[38;5;129m@functools\u001b[39m\u001b[38;5;241m.\u001b[39mwraps(func)\n\u001b[1;32m   1471\u001b[0m \u001b[38;5;28;01mdef\u001b[39;00m \u001b[38;5;21minner\u001b[39m(ax, \u001b[38;5;241m*\u001b[39margs, data\u001b[38;5;241m=\u001b[39m\u001b[38;5;28;01mNone\u001b[39;00m, \u001b[38;5;241m*\u001b[39m\u001b[38;5;241m*\u001b[39mkwargs):\n\u001b[1;32m   1472\u001b[0m     \u001b[38;5;28;01mif\u001b[39;00m data \u001b[38;5;129;01mis\u001b[39;00m \u001b[38;5;28;01mNone\u001b[39;00m:\n\u001b[0;32m-> 1473\u001b[0m         \u001b[38;5;28;01mreturn\u001b[39;00m \u001b[43mfunc\u001b[49m\u001b[43m(\u001b[49m\n\u001b[1;32m   1474\u001b[0m \u001b[43m            \u001b[49m\u001b[43max\u001b[49m\u001b[43m,\u001b[49m\n\u001b[1;32m   1475\u001b[0m \u001b[43m            \u001b[49m\u001b[38;5;241;43m*\u001b[39;49m\u001b[38;5;28;43mmap\u001b[39;49m\u001b[43m(\u001b[49m\u001b[43msanitize_sequence\u001b[49m\u001b[43m,\u001b[49m\u001b[43m \u001b[49m\u001b[43margs\u001b[49m\u001b[43m)\u001b[49m\u001b[43m,\u001b[49m\n\u001b[1;32m   1476\u001b[0m \u001b[43m            \u001b[49m\u001b[38;5;241;43m*\u001b[39;49m\u001b[38;5;241;43m*\u001b[39;49m\u001b[43m{\u001b[49m\u001b[43mk\u001b[49m\u001b[43m:\u001b[49m\u001b[43m \u001b[49m\u001b[43msanitize_sequence\u001b[49m\u001b[43m(\u001b[49m\u001b[43mv\u001b[49m\u001b[43m)\u001b[49m\u001b[43m \u001b[49m\u001b[38;5;28;43;01mfor\u001b[39;49;00m\u001b[43m \u001b[49m\u001b[43mk\u001b[49m\u001b[43m,\u001b[49m\u001b[43m \u001b[49m\u001b[43mv\u001b[49m\u001b[43m \u001b[49m\u001b[38;5;129;43;01min\u001b[39;49;00m\u001b[43m \u001b[49m\u001b[43mkwargs\u001b[49m\u001b[38;5;241;43m.\u001b[39;49m\u001b[43mitems\u001b[49m\u001b[43m(\u001b[49m\u001b[43m)\u001b[49m\u001b[43m}\u001b[49m\u001b[43m)\u001b[49m\n\u001b[1;32m   1478\u001b[0m     bound \u001b[38;5;241m=\u001b[39m new_sig\u001b[38;5;241m.\u001b[39mbind(ax, \u001b[38;5;241m*\u001b[39margs, \u001b[38;5;241m*\u001b[39m\u001b[38;5;241m*\u001b[39mkwargs)\n\u001b[1;32m   1479\u001b[0m     auto_label \u001b[38;5;241m=\u001b[39m (bound\u001b[38;5;241m.\u001b[39marguments\u001b[38;5;241m.\u001b[39mget(label_namer)\n\u001b[1;32m   1480\u001b[0m                   \u001b[38;5;129;01mor\u001b[39;00m bound\u001b[38;5;241m.\u001b[39mkwargs\u001b[38;5;241m.\u001b[39mget(label_namer))\n",
      "File \u001b[0;32m~/miniconda3/envs/tesi/lib/python3.10/site-packages/matplotlib/axes/_axes.py:6428\u001b[0m, in \u001b[0;36mAxes.pcolormesh\u001b[0;34m(self, alpha, norm, cmap, vmin, vmax, shading, antialiased, *args, **kwargs)\u001b[0m\n\u001b[1;32m   6425\u001b[0m shading \u001b[38;5;241m=\u001b[39m shading\u001b[38;5;241m.\u001b[39mlower()\n\u001b[1;32m   6426\u001b[0m kwargs\u001b[38;5;241m.\u001b[39msetdefault(\u001b[38;5;124m'\u001b[39m\u001b[38;5;124medgecolors\u001b[39m\u001b[38;5;124m'\u001b[39m, \u001b[38;5;124m'\u001b[39m\u001b[38;5;124mnone\u001b[39m\u001b[38;5;124m'\u001b[39m)\n\u001b[0;32m-> 6428\u001b[0m X, Y, C, shading \u001b[38;5;241m=\u001b[39m \u001b[38;5;28;43mself\u001b[39;49m\u001b[38;5;241;43m.\u001b[39;49m\u001b[43m_pcolorargs\u001b[49m\u001b[43m(\u001b[49m\u001b[38;5;124;43m'\u001b[39;49m\u001b[38;5;124;43mpcolormesh\u001b[39;49m\u001b[38;5;124;43m'\u001b[39;49m\u001b[43m,\u001b[49m\u001b[43m \u001b[49m\u001b[38;5;241;43m*\u001b[39;49m\u001b[43margs\u001b[49m\u001b[43m,\u001b[49m\n\u001b[1;32m   6429\u001b[0m \u001b[43m                                    \u001b[49m\u001b[43mshading\u001b[49m\u001b[38;5;241;43m=\u001b[39;49m\u001b[43mshading\u001b[49m\u001b[43m,\u001b[49m\u001b[43m \u001b[49m\u001b[43mkwargs\u001b[49m\u001b[38;5;241;43m=\u001b[39;49m\u001b[43mkwargs\u001b[49m\u001b[43m)\u001b[49m\n\u001b[1;32m   6430\u001b[0m coords \u001b[38;5;241m=\u001b[39m np\u001b[38;5;241m.\u001b[39mstack([X, Y], axis\u001b[38;5;241m=\u001b[39m\u001b[38;5;241m-\u001b[39m\u001b[38;5;241m1\u001b[39m)\n\u001b[1;32m   6432\u001b[0m kwargs\u001b[38;5;241m.\u001b[39msetdefault(\u001b[38;5;124m'\u001b[39m\u001b[38;5;124msnap\u001b[39m\u001b[38;5;124m'\u001b[39m, mpl\u001b[38;5;241m.\u001b[39mrcParams[\u001b[38;5;124m'\u001b[39m\u001b[38;5;124mpcolormesh.snap\u001b[39m\u001b[38;5;124m'\u001b[39m])\n",
      "File \u001b[0;32m~/miniconda3/envs/tesi/lib/python3.10/site-packages/matplotlib/axes/_axes.py:5975\u001b[0m, in \u001b[0;36mAxes._pcolorargs\u001b[0;34m(self, funcname, shading, *args, **kwargs)\u001b[0m\n\u001b[1;32m   5973\u001b[0m \u001b[38;5;28;01mif\u001b[39;00m shading \u001b[38;5;241m==\u001b[39m \u001b[38;5;124m'\u001b[39m\u001b[38;5;124mflat\u001b[39m\u001b[38;5;124m'\u001b[39m:\n\u001b[1;32m   5974\u001b[0m     \u001b[38;5;28;01mif\u001b[39;00m (Nx, Ny) \u001b[38;5;241m!=\u001b[39m (ncols \u001b[38;5;241m+\u001b[39m \u001b[38;5;241m1\u001b[39m, nrows \u001b[38;5;241m+\u001b[39m \u001b[38;5;241m1\u001b[39m):\n\u001b[0;32m-> 5975\u001b[0m         \u001b[38;5;28;01mraise\u001b[39;00m \u001b[38;5;167;01mTypeError\u001b[39;00m(\u001b[38;5;124mf\u001b[39m\u001b[38;5;124m\"\u001b[39m\u001b[38;5;124mDimensions of C \u001b[39m\u001b[38;5;132;01m{\u001b[39;00mC\u001b[38;5;241m.\u001b[39mshape\u001b[38;5;132;01m}\u001b[39;00m\u001b[38;5;124m should\u001b[39m\u001b[38;5;124m\"\u001b[39m\n\u001b[1;32m   5976\u001b[0m                         \u001b[38;5;124mf\u001b[39m\u001b[38;5;124m\"\u001b[39m\u001b[38;5;124m be one smaller than X(\u001b[39m\u001b[38;5;132;01m{\u001b[39;00mNx\u001b[38;5;132;01m}\u001b[39;00m\u001b[38;5;124m) and Y(\u001b[39m\u001b[38;5;132;01m{\u001b[39;00mNy\u001b[38;5;132;01m}\u001b[39;00m\u001b[38;5;124m)\u001b[39m\u001b[38;5;124m\"\u001b[39m\n\u001b[1;32m   5977\u001b[0m                         \u001b[38;5;124mf\u001b[39m\u001b[38;5;124m\"\u001b[39m\u001b[38;5;124m while using shading=\u001b[39m\u001b[38;5;124m'\u001b[39m\u001b[38;5;124mflat\u001b[39m\u001b[38;5;124m'\u001b[39m\u001b[38;5;124m\"\u001b[39m\n\u001b[1;32m   5978\u001b[0m                         \u001b[38;5;124mf\u001b[39m\u001b[38;5;124m\"\u001b[39m\u001b[38;5;124m see help(\u001b[39m\u001b[38;5;132;01m{\u001b[39;00mfuncname\u001b[38;5;132;01m}\u001b[39;00m\u001b[38;5;124m)\u001b[39m\u001b[38;5;124m\"\u001b[39m)\n\u001b[1;32m   5979\u001b[0m \u001b[38;5;28;01melse\u001b[39;00m:    \u001b[38;5;66;03m# ['nearest', 'gouraud']:\u001b[39;00m\n\u001b[1;32m   5980\u001b[0m     \u001b[38;5;28;01mif\u001b[39;00m (Nx, Ny) \u001b[38;5;241m!=\u001b[39m (ncols, nrows):\n",
      "\u001b[0;31mTypeError\u001b[0m: Dimensions of C (1, 29, 129) should be one smaller than X(129) and Y(29) while using shading='flat' see help(pcolormesh)"
     ]
    },
    {
     "data": {
      "image/png": "[encoded data removed]",
      "text/plain": [
       "<Figure size 2000x1200 with 1 Axes>"
      ]
     },
     "metadata": {},
     "output_type": "display_data"
    }
   ],
   "source": [
    "# Sample data for demonstration\n",
    "first_dim = torch.arange(29)\n",
    "second_dim = torch.arange(129)\n",
    "\n",
    "third_dim0 = 10 ** ((medoid_0[0, first_dim[:, None], second_dim]*std + mean)/20) - np.finfo(float).eps\n",
    "third_dim1 = 10 ** ((medoid_1[0, first_dim[:, None], second_dim]*std + mean)/20) - np.finfo(float).eps\n",
    "third_dim2 = 10 ** ((medoid_2[0, first_dim[:, None], second_dim]*std + mean)/20) - np.finfo(float).eps\n",
    "third_dim3 = 10 ** ((medoid_3[0, first_dim[:, None], second_dim]*std + mean)/20) - np.finfo(float).eps\n",
    "third_dim4 = 10 ** ((medoid_4[0, first_dim[:, None], second_dim]*std + mean)/20) - np.finfo(float).eps\n",
    "\n",
    "# Create a meshgrid for the x and y coordinates\n",
    "X, Y = torch.meshgrid(first_dim, second_dim, indexing='ij')\n",
    "\n",
    "vmin = min(third_dim0.min(), third_dim1.min(), third_dim2.min(), third_dim3.min(), third_dim4.min())\n",
    "vmax = max( third_dim0.max(), third_dim1.max(), third_dim2.max(), third_dim3.max(), third_dim4.max())\n",
    "\n",
    "# Create a figure with a custom grid layout\n",
    "fig = plt.figure(figsize=(20, 12))\n",
    "gs = fig.add_gridspec(3, 2, height_ratios=[1, 1, 1])\n",
    "# Add a title to the entire figure\n",
    "fig.suptitle(figure_title, fontsize=25)\n",
    "\n",
    "# First row, first column\n",
    "ax1 = fig.add_subplot(gs[0, 0])\n",
    "c1 = ax1.pcolormesh(X, Y, third_dim0, shading='auto', vmin=vmin, vmax=vmax)\n",
    "fig.colorbar(c1, ax=ax1, label='Intensity')\n",
    "ax1.set_xlabel(\"Spectral Column\")\n",
    "ax1.set_ylabel(\"Frequency Bin\")\n",
    "ax1.set_title('Wake Centroid Spectrogram')\n",
    "\n",
    "# First row, second column\n",
    "ax2 = fig.add_subplot(gs[0, 1])\n",
    "c2 = ax2.pcolormesh(X, Y, third_dim1, shading='auto', vmin=vmin, vmax=vmax)\n",
    "fig.colorbar(c2, ax=ax2, label='Intensity')\n",
    "ax2.set_xlabel(\"Spectral Column\")\n",
    "ax2.set_ylabel(\"Frequency Bin\")\n",
    "ax2.set_title('N1 Centroid Spectrogram')\n",
    "\n",
    "# Second row, first column\n",
    "ax3 = fig.add_subplot(gs[1, 0])\n",
    "c3 = ax3.pcolormesh(X, Y, third_dim2, shading='auto', vmin=vmin, vmax=vmax)\n",
    "fig.colorbar(c3, ax=ax3, label='Intensity')\n",
    "ax3.set_xlabel(\"Spectral Column\")\n",
    "ax3.set_ylabel(\"Frequency Bin\")\n",
    "ax3.set_title('N2 Centroid Spectrogram')\n",
    "\n",
    "# Second row, second column\n",
    "ax4 = fig.add_subplot(gs[1, 1])\n",
    "c4 = ax4.pcolormesh(X, Y, third_dim3, shading='auto', vmin=vmin, vmax=vmax)\n",
    "fig.colorbar(c4, ax=ax4, label='Intensity')\n",
    "ax4.set_xlabel(\"Spectral Column\")\n",
    "ax4.set_ylabel(\"Frequency Bin\")\n",
    "ax4.set_title('N3 Centroid Spectrogram')\n",
    "\n",
    "# Third row, centered column (spanning both columns)\n",
    "ax5 = fig.add_subplot(gs[2, 0])\n",
    "c5 = ax5.pcolormesh(X, Y, third_dim4, shading='auto', vmin=vmin, vmax=vmax)\n",
    "fig.colorbar(c5, ax=ax5, label='Intensity')\n",
    "ax5.set_xlabel(\"Spectral Column\")\n",
    "ax5.set_ylabel(\"Frequency Bin\")\n",
    "ax5.set_title('REM Centroid Spectrogram')\n",
    "\n",
    "plt.tight_layout()\n",
    "plt.show()"
   ]
  },
  {
   "cell_type": "markdown",
   "metadata": {},
   "source": [
    "### Plotting the first 2 PCA components"
   ]
  },
  {
   "cell_type": "code",
   "execution_count": null,
   "metadata": {},
   "outputs": [],
   "source": [
    "# Increase the number of components to see the variance in other components\n",
    "pca = PCA(n_components=2)  # Adjust the number of components as needed\n",
    "\n",
    "# First PCA transformation\n",
    "principal_components_ssn = pca.fit_transform(train_projections_ssn[true_indx_ssn, :])\n",
    "true_positive_ssn = y_train_true_ssn[true_indx_ssn]\n",
    "explained_variance_ssn = pca.explained_variance_ratio_\n",
    "\n",
    "df_ssn = pd.DataFrame(\n",
    "    {\n",
    "        \"First Principal Component\": principal_components_ssn[:, 0],\n",
    "        \"Second Principal Component\": principal_components_ssn[:, 1],\n",
    "        #\"Third Principal Component\": principal_components_ssn[:, 2],\n",
    "        \"Group\": true_positive_ssn,\n",
    "    }\n",
    ")\n",
    "print(\"Explained variance ratio for ssn:\", explained_variance_ssn)\n",
    "print(\"Explained variance:\", explained_variance_ssn.sum())\n",
    "\n",
    "# Second PCA transformation\n",
    "principal_components_ssn_sum = pca.fit_transform(train_projections_ssn_sum[true_indx_ssn_sum, :])\n",
    "true_positive_ssn_sum = y_train_true_ssn_sum[true_indx_ssn_sum]\n",
    "explained_variance_ssn_sum = pca.explained_variance_ratio_\n",
    "\n",
    "df_ssn_sum = pd.DataFrame(\n",
    "    {\n",
    "        \"First Principal Component\": principal_components_ssn_sum[:, 0],\n",
    "        \"Second Principal Component\": principal_components_ssn_sum[:, 1],\n",
    "        #\"Third Principal Component\": principal_components_ssn_sum[:, 2],\n",
    "        \"Group\": true_positive_ssn_sum,\n",
    "    }\n",
    ")\n",
    "print(\"Explained variance ratio for ssn_sum:\", explained_variance_ssn_sum)\n",
    "print(\"Explained variance:\", explained_variance_ssn_sum.sum())\n",
    "\n",
    "# Third PCA transformation\n",
    "principal_components_ssn_conc = pca.fit_transform(train_projections_ssn_conc[true_indx_ssn_conc, :])\n",
    "true_positive_ssn_conc = y_train_true_ssn_conc[true_indx_ssn_conc]\n",
    "explained_variance_ssn_conc = pca.explained_variance_ratio_\n",
    "\n",
    "df_ssn_conc = pd.DataFrame(\n",
    "    {\n",
    "        \"First Principal Component\": principal_components_ssn_conc[:, 0],\n",
    "        \"Second Principal Component\": principal_components_ssn_conc[:, 1],\n",
    "        #\"Third Principal Component\": principal_components_ssn_conc[:, 2],\n",
    "        \"Group\": true_positive_ssn_conc,\n",
    "    }\n",
    ")\n",
    "print(\"Explained variance ratio for ssn_conc:\", explained_variance_ssn_conc)\n",
    "print(\"Explained variance:\", explained_variance_ssn_conc.sum())\n",
    "\n",
    "# Fourth PCA transformation\n",
    "principal_components_ssn_epoch = pca.fit_transform(train_projections_ssn_epoch[true_indx_ssn_epoch, :])\n",
    "true_positive_ssn_epoch = y_train_true_ssn_epoch[true_indx_ssn_epoch]\n",
    "explained_variance_ssn_epoch = pca.explained_variance_ratio_\n",
    "\n",
    "df_ssn_epoch = pd.DataFrame(\n",
    "    {\n",
    "        \"First Principal Component\": principal_components_ssn_epoch[:, 0],\n",
    "        \"Second Principal Component\": principal_components_ssn_epoch[:, 1],\n",
    "        #\"Third Principal Component\": principal_components_ssn_epoch[:, 2],\n",
    "        \"Group\": true_positive_ssn_epoch,\n",
    "    }\n",
    ")\n",
    "print(\"Explained variance ratio for ssn_epoch:\", explained_variance_ssn_epoch)\n",
    "print(\"Explained variance:\", explained_variance_ssn_epoch.sum())"
   ]
  },
  {
   "cell_type": "code",
   "execution_count": 9,
   "metadata": {},
   "outputs": [],
   "source": [
    "classes = {0:\"Wake\", 1:\"N1\", 2:\"N2\", 3:\"N3\", 4:\"REM\"}\n",
    "df_ssn[\"Group\"] = df_ssn[\"Group\"].map(classes)\n",
    "df_ssn_epoch[\"Group\"] = df_ssn_epoch[\"Group\"].map(classes)\n",
    "df_ssn_conc[\"Group\"] = df_ssn_conc[\"Group\"].map(classes)\n",
    "df_ssn_sum[\"Group\"] = df_ssn_sum[\"Group\"].map(classes)"
   ]
  },
  {
   "cell_type": "code",
   "execution_count": null,
   "metadata": {},
   "outputs": [],
   "source": [
    "print(\"Base\", df_ssn[\"Group\"].unique())\n",
    "print(\"Epoch\", df_ssn_epoch[\"Group\"].unique())\n",
    "print(\"Conc\", df_ssn_conc[\"Group\"].unique())\n",
    "print(\"Sum\", df_ssn_sum[\"Group\"].unique())"
   ]
  },
  {
   "cell_type": "markdown",
   "metadata": {},
   "source": [
    "---"
   ]
  },
  {
   "cell_type": "code",
   "execution_count": null,
   "metadata": {},
   "outputs": [],
   "source": [
    "fig, axes = plt.subplots(2, 2, figsize=(16, 11))\n",
    "classes=[\"Wake\", \"N1\", \"N2\", \"N3\", \"REM\"]\n",
    "\n",
    "sns.scatterplot(\n",
    "    data=df_ssn_epoch[(df_ssn_epoch[\"First Principal Component\"] >= -0.4)&(df_ssn_epoch[\"First Principal Component\"] <= 0.4)],\n",
    "    x=\"First Principal Component\",\n",
    "    y=\"Second Principal Component\",\n",
    "    hue=\"Group\",\n",
    "    hue_order=classes,\n",
    "    palette=\"Set1\",\n",
    "    ax=axes[0,1],\n",
    ").set(title=\"SeqSleepNet SCL Epoch encoding\")"
   ]
  },
  {
   "cell_type": "code",
   "execution_count": 101,
   "metadata": {},
   "outputs": [],
   "source": [
    "# Enable interactive plotting\n",
    "%matplotlib notebook\n"
   ]
  },
  {
   "cell_type": "code",
   "execution_count": null,
   "metadata": {},
   "outputs": [],
   "source": [
    "from mpl_toolkits.mplot3d import Axes3D\n",
    "import matplotlib.pyplot as plt\n",
    "\n",
    "# Define the classes variable\n",
    "classes = [\"Wake\", \"N1\", \"N2\", \"N3\", \"REM\"]\n",
    "\n",
    "fig = plt.figure(figsize=(8, 6))\n",
    "\n",
    "# First subplot\n",
    "ax1 = fig.add_subplot(1, 1, 1, projection='3d')\n",
    "ax1.scatter(\n",
    "    df_ssn[\"First Principal Component\"],\n",
    "    df_ssn[\"Second Principal Component\"],\n",
    "    df_ssn[\"Third Principal Component\"],\n",
    "    c=df_ssn[\"Group\"].apply(lambda x: classes.index(x)),\n",
    "    cmap=\"Set1\"\n",
    ")\n",
    "ax1.set_title(\"SeqSleepNet SCL\")\n",
    "ax1.set_xlabel(\"First Principal Component\")\n",
    "ax1.set_ylabel(\"Second Principal Component\")\n",
    "ax1.set_zlabel(\"Third Principal Component\")\n",
    "\n",
    "plt.show()\n",
    "plt.close()"
   ]
  },
  {
   "cell_type": "code",
   "execution_count": null,
   "metadata": {},
   "outputs": [],
   "source": [
    "from mpl_toolkits.mplot3d import Axes3D\n",
    "import matplotlib.pyplot as plt\n",
    "\n",
    "# Define the classes variable\n",
    "classes = [\"Wake\", \"N1\", \"N2\", \"N3\", \"REM\"]\n",
    "\n",
    "fig = plt.figure(figsize=(16, 11))\n",
    "\n",
    "# First subplot\n",
    "ax1 = fig.add_subplot(2, 2, 1, projection='3d')\n",
    "ax1.scatter(\n",
    "    df_ssn[\"First Principal Component\"],\n",
    "    df_ssn[\"Second Principal Component\"],\n",
    "    df_ssn[\"Third Principal Component\"],\n",
    "    c=df_ssn[\"Group\"].apply(lambda x: classes.index(x)),\n",
    "    cmap=\"Set1\"\n",
    ")\n",
    "ax1.set_title(\"SeqSleepNet SCL\")\n",
    "ax1.set_xlabel(\"First Principal Component\")\n",
    "ax1.set_ylabel(\"Second Principal Component\")\n",
    "ax1.set_zlabel(\"Third Principal Component\")\n",
    "\n",
    "# Second subplot\n",
    "ax2 = fig.add_subplot(2, 2, 2, projection='3d')\n",
    "filtered_df = df_ssn_epoch[(df_ssn_epoch[\"First Principal Component\"] >= -0.4) & (df_ssn_epoch[\"First Principal Component\"] <= 0.4)]\n",
    "ax2.scatter(\n",
    "    filtered_df[\"First Principal Component\"],\n",
    "    filtered_df[\"Second Principal Component\"],\n",
    "    filtered_df[\"Third Principal Component\"],\n",
    "    c=filtered_df[\"Group\"].apply(lambda x: classes.index(x)),\n",
    "    cmap=\"Set1\"\n",
    ")\n",
    "ax2.set_title(\"SeqSleepNet SCL Epoch encoding\")\n",
    "ax2.set_xlabel(\"First Principal Component\")\n",
    "ax2.set_ylabel(\"Second Principal Component\")\n",
    "ax2.set_zlabel(\"Third Principal Component\")\n",
    "\n",
    "# Third subplot\n",
    "ax3 = fig.add_subplot(2, 2, 3, projection='3d')\n",
    "ax3.scatter(\n",
    "    df_ssn_sum[\"First Principal Component\"],\n",
    "    df_ssn_sum[\"Second Principal Component\"],\n",
    "    df_ssn_sum[\"Third Principal Component\"],\n",
    "    c=df_ssn_sum[\"Group\"].apply(lambda x: classes.index(x)),\n",
    "    cmap=\"Set1\"\n",
    ")\n",
    "ax3.set_title(\"SeqsleepNet SCL Sum Epoch-Sequence\")\n",
    "ax3.set_xlabel(\"First Principal Component\")\n",
    "ax3.set_ylabel(\"Second Principal Component\")\n",
    "ax3.set_zlabel(\"Third Principal Component\")\n",
    "\n",
    "# Fourth subplot\n",
    "ax4 = fig.add_subplot(2, 2, 4, projection='3d')\n",
    "ax4.scatter(\n",
    "    df_ssn_conc[\"First Principal Component\"],\n",
    "    df_ssn_conc[\"Second Principal Component\"],\n",
    "    df_ssn_conc[\"Third Principal Component\"],\n",
    "    c=df_ssn_conc[\"Group\"].apply(lambda x: classes.index(x)),\n",
    "    cmap=\"Set1\"\n",
    ")\n",
    "ax4.set_title(\"SeqsleepNet SCL Concatenation Epoch-Sequence\")\n",
    "ax4.set_xlabel(\"First Principal Component\")\n",
    "ax4.set_ylabel(\"Second Principal Component\")\n",
    "ax4.set_zlabel(\"Third Principal Component\")\n",
    "\n",
    "plt.savefig(\"scatterplot_3d.png\")\n",
    "plt.show()\n",
    "plt.close()"
   ]
  },
  {
   "cell_type": "code",
   "execution_count": null,
   "metadata": {},
   "outputs": [],
   "source": [
    "fig, axes = plt.subplots(2, 2, figsize=(16, 11))\n",
    "classes=[\"Wake\", \"N1\", \"N2\", \"N3\", \"REM\"]\n",
    "# Utilizza seaborn.scatterplot\n",
    "sns.scatterplot(\n",
    "    data=df_ssn,\n",
    "    x=\"First Principal Component\",\n",
    "    y=\"Second Principal Component\",\n",
    "    hue=\"Group\",\n",
    "    hue_order=classes,\n",
    "    palette=\"Set1\",\n",
    "    ax=axes[0, 0],\n",
    ").set(title=\"SeqSleepNet SCL\")\n",
    "\n",
    "sns.scatterplot(\n",
    "    data=df_ssn_epoch[(df_ssn_epoch[\"First Principal Component\"] >= -0.4)&(df_ssn_epoch[\"First Principal Component\"] <= 0.4)],\n",
    "    x=\"First Principal Component\",\n",
    "    y=\"Second Principal Component\",\n",
    "    hue=\"Group\",\n",
    "    hue_order=classes,\n",
    "    palette=\"Set1\",\n",
    "    ax=axes[0,1],\n",
    ").set(title=\"SeqSleepNet SCL Epoch encoding\")\n",
    "\n",
    "sns.scatterplot(\n",
    "    data=df_ssn_sum,\n",
    "    x=\"First Principal Component\",\n",
    "    y=\"Second Principal Component\",\n",
    "    hue=\"Group\",\n",
    "    hue_order=classes,\n",
    "    palette=\"Set1\",\n",
    "    ax=axes[1, 0],\n",
    ").set(title=\"SeqsleepNet SCL Sum Epoch-Sequence\")\n",
    "\n",
    "sns.scatterplot(\n",
    "    data=df_ssn_conc,\n",
    "    x=\"First Principal Component\",\n",
    "    y=\"Second Principal Component\",\n",
    "    hue=\"Group\",\n",
    "    hue_order=classes,\n",
    "    palette=\"Set1\",\n",
    "    ax=axes[1, 1],\n",
    ").set(title=\"SeqsleepNet SCL Concatenation Epoch-Sequence\")\n",
    "\n",
    "plt.savefig(\"scatterplot.png\")\n",
    "plt.show()\n",
    "plt.close()"
   ]
  },
  {
   "cell_type": "markdown",
   "metadata": {},
   "source": [
    "### Assessing the latent space quality measuring the ARI"
   ]
  },
  {
   "cell_type": "code",
   "execution_count": null,
   "metadata": {},
   "outputs": [],
   "source": [
    "K_values = range(2, 10)\n",
    "\n",
    "# Lista per memorizzare i risultati ARI\n",
    "ari_values = []\n",
    "contr_ari_values = []\n",
    "for K in K_values:\n",
    "    # Esegui K-Means con il valore corrente di K\n",
    "    kmeans = KMeans(n_clusters=K, random_state=0).fit(train_projection[true_indx, :])\n",
    "    # Calcola l'ARI confrontando le assegnazioni di K-Means con i true_positive\n",
    "    ari = adjusted_rand_score(true_positive, kmeans.labels_)\n",
    "    # Memorizza il risultato\n",
    "    ari_values.append(ari)\n",
    "\n",
    "    # Esegui K-Means con il valore corrente di K\n",
    "    kmeans = KMeans(n_clusters=K, random_state=0).fit(\n",
    "        contr_train_projections[contr_true_indx, :]\n",
    "    )\n",
    "    # Calcola l'ARI confrontando le assegnazioni di K-Means con i true_positive\n",
    "    ari = adjusted_rand_score(contr_true_positive, kmeans.labels_)\n",
    "    # Memorizza il risultato\n",
    "    contr_ari_values.append(ari)"
   ]
  },
  {
   "cell_type": "code",
   "execution_count": null,
   "metadata": {},
   "outputs": [],
   "source": [
    "results = pd.DataFrame(\n",
    "    {\n",
    "        \"Number of clusters (K)\": K_values,\n",
    "        \"TinySleepNet\": ari_values,\n",
    "        \"ContrTinySleepNet\": contr_ari_values,\n",
    "    }\n",
    ")\n",
    "\n",
    "# Plotta i risultati con Seaborn\n",
    "plt.figure(figsize=(8, 6))\n",
    "sns.lineplot(data=results[[\"TinySleepNet\", \"ContrTinySleepNet\"]], marker=\"o\").set(\n",
    "    title=\"Adjusted Rand Index\"\n",
    ")\n",
    "plt.show()\n",
    "plt.close()"
   ]
  },
  {
   "cell_type": "code",
   "execution_count": null,
   "metadata": {},
   "outputs": [],
   "source": [
    "kmeans = KMeans(n_clusters=5, random_state=0).fit(train_projection[true_indx, :])\n",
    "contr_kmeans = KMeans(n_clusters=5, random_state=0).fit(\n",
    "    contr_train_projections[contr_true_indx, :]\n",
    ")\n",
    "\n",
    "df[\"KMeans\"] = kmeans.labels_\n",
    "contr_df[\"KMeans\"] = contr_kmeans.labels_"
   ]
  },
  {
   "cell_type": "code",
   "execution_count": null,
   "metadata": {},
   "outputs": [],
   "source": [
    "fig, axes = plt.subplots(1, 2, figsize=(16, 9))\n",
    "\n",
    "# Utilizza seaborn.scatterplot\n",
    "sns.scatterplot(\n",
    "    data=df,\n",
    "    x=\"First Principal Component\",\n",
    "    y=\"Second Principal Component\",\n",
    "    hue=\"KMeans\",\n",
    "    palette=\"Set1\",\n",
    "    ax=axes[0],\n",
    ").set(title=\"TinySleepNet\")\n",
    "sns.scatterplot(\n",
    "    data=contr_df,\n",
    "    x=\"First Principal Component\",\n",
    "    y=\"Second Principal Component\",\n",
    "    hue=\"KMeans\",\n",
    "    palette=\"Set1\",\n",
    "    ax=axes[1],\n",
    ").set(title=\"ContrTinySleepNet\")\n",
    "\n",
    "plt.show()\n",
    "plt.close()"
   ]
  },
  {
   "cell_type": "code",
   "execution_count": null,
   "metadata": {},
   "outputs": [],
   "source": [
    "import pkg_resources as pkg\n",
    "\n",
    "path = pkg.resource_filename(__name__, \"../\")\n",
    "\n",
    "import os\n",
    "\n",
    "os.chdir(path)"
   ]
  },
  {
   "cell_type": "code",
   "execution_count": null,
   "metadata": {},
   "outputs": [],
   "source": [
    "from physioex.explain.ari_explainer import ARIExplainer\n",
    "\n",
    "expl = ARIExplainer(\n",
    "    model_name=\"tinysleepnet\",\n",
    "    dataset_name=\"sleep_physionet\",\n",
    "    ckp_path=\"models/CCL/tinysleepnet/seqlen=3/SleepPhysionet/2018/\",\n",
    "    version=\"2018\",\n",
    "    use_cache=True,\n",
    "    sequence_lenght=3,\n",
    "    batch_size=32,\n",
    "    n_jobs=10,\n",
    ")"
   ]
  },
  {
   "cell_type": "code",
   "execution_count": null,
   "metadata": {},
   "outputs": [],
   "source": [
    "expl.explain(plot_pca=True, plot_kmeans=True, n_jobs=1)"
   ]
  },
  {
   "cell_type": "code",
   "execution_count": null,
   "metadata": {},
   "outputs": [],
   "source": []
  }
 ],
 "metadata": {
  "kernelspec": {
   "display_name": "physioex",
   "language": "python",
   "name": "python3"
  },
  "language_info": {
   "codemirror_mode": {
    "name": "ipython",
    "version": 3
   },
   "file_extension": ".py",
   "mimetype": "text/x-python",
   "name": "python",
   "nbconvert_exporter": "python",
   "pygments_lexer": "ipython3",
   "version": "3.10.14"
  }
 },
 "nbformat": 4,
 "nbformat_minor": 2
}
